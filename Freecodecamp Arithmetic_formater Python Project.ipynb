{
 "cells": [
  {
   "cell_type": "code",
   "execution_count": 4,
   "metadata": {},
   "outputs": [
    {
     "name": "stdout",
     "output_type": "stream",
     "text": [
      "   32      3801      45      123\n",
      "+ 698    -    2    + 43    +  49\n",
      "-----    ------    ----    -----\n",
      "  730      3799      88      172 \n",
      "\n",
      "\n",
      "    3      3801      45      123\n",
      "+ 855    -    2    + 43    +  49\n",
      "-----    ------    ----    -----\n",
      "  858      3799      88      172\n"
     ]
    }
   ],
   "source": [
    "def arithmetic_arranger(problems, show_results =True):\n",
    "    top= \"\"\n",
    "    bottom= \"\"\n",
    "    rule= \"\"\n",
    "    answer1= \"\"    \n",
    "    if len(problems)>5:\n",
    "        return \"Error: Too many problems.\"\n",
    "    else:\n",
    "        \n",
    "        for problem in problems:\n",
    "            blem = problem.split(\" \")\n",
    "            if blem[1] not in [\"+\",\"-\"]:\n",
    "                return \"Error: Operator must be '+' or '-'.\"\n",
    "            else:\n",
    "                for x in blem[0]:\n",
    "                    if not x.isnumeric():\n",
    "                        return \"Error: Numbers must only contain digits.\"\n",
    "                    else:\n",
    "                        continue\n",
    "                    \n",
    "                for y in blem[2]:  \n",
    "                     if not y.isnumeric():\n",
    "                        return \"Error: Numbers must only contain digits.\"\n",
    "                     else:\n",
    "                        continue \n",
    "                            \n",
    "                if len(blem[0])>4 or len(blem[2])>4:\n",
    "                    return \"Error: Numbers cannot be more than four digits.\"\n",
    "                else:\n",
    "                    if blem[1] == \"+\":\n",
    "                        answer = int(blem[0])+int(blem[2])\n",
    "                    else:\n",
    "                        answer = int(blem[0])-int(blem[2])\n",
    "                        \n",
    "                        \n",
    "                    width_space=max(len(blem[0]),len(blem[2]))+2\n",
    "                    ruler= str(width_space*\"-\")\n",
    "                    topline=str(blem[0]).rjust(width_space)\n",
    "                    bottomline=str(blem[1]) + str(blem[2]).rjust(width_space -1)\n",
    "                    show_answer=str(answer).rjust(width_space)\n",
    "                    \n",
    "                                        \n",
    "                    if problem != problems[-1]:\n",
    "                        top += topline + \"    \"\n",
    "                        bottom  += bottomline + \"    \"\n",
    "                        rule += ruler + \"    \"\n",
    "                        answer1 += show_answer + \"    \"\n",
    "                    else:\n",
    "                        top+=topline\n",
    "                        bottom+=bottomline\n",
    "                        rule+=ruler\n",
    "                        answer1+=show_answer\n",
    "\n",
    "                    top.rstrip()\n",
    "                    bottom.rstrip()\n",
    "                    rule.rstrip()\n",
    "                    answer1.rstrip()\n",
    "                    \n",
    "                    if show_results == True:\n",
    "                            arranged_problems = top + \"\\n\" + bottom + \"\\n\" + rule + \"\\n\" + answer1\n",
    "                    else:\n",
    "                        arranged_problems = top + \"\\n\" + bottom + \"\\n\" + rule            \n",
    "                     \n",
    "    return  arranged_problems         \n",
    "\n",
    "print(arithmetic_arranger([\"32 + 698\", \"3801 - 2\", \"45 + 43\", \"123 + 49\"]),\"\\n\\n\")\n",
    "print(arithmetic_arranger([\"3 + 855\", \"3801 - 2\", \"45 + 43\", \"123 + 49\"]))\n"
   ]
  },
  {
   "cell_type": "code",
   "execution_count": null,
   "metadata": {},
   "outputs": [],
   "source": [
    "final correct answer :   https://repl.it/repls/WornExcitedComputer#arithmetic_arranger.py"
   ]
  }
 ],
 "metadata": {
  "kernelspec": {
   "display_name": "Python 3",
   "language": "python",
   "name": "python3"
  },
  "language_info": {
   "codemirror_mode": {
    "name": "ipython",
    "version": 3
   },
   "file_extension": ".py",
   "mimetype": "text/x-python",
   "name": "python",
   "nbconvert_exporter": "python",
   "pygments_lexer": "ipython3",
   "version": "3.7.6"
  }
 },
 "nbformat": 4,
 "nbformat_minor": 4
}
