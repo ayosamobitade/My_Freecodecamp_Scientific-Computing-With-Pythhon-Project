{
 "cells": [
  {
   "cell_type": "markdown",
   "metadata": {},
   "source": [
    "# Freecodecamp.com project\n",
    "## Answer to the freecodecamp.com Scientific Computing With Python Programming\n",
    "- > `Author` Ayobami Samuel **Obitade**"
   ]
  },
  {
   "cell_type": "code",
   "execution_count": null,
   "metadata": {},
   "outputs": [],
   "source": [
    "import numpy as np\n",
    "\n",
    "def calculate(list):  \n",
    "    if len(list)<9:\n",
    "        raise ValueError (\"List must contain nine numbers.\")\n",
    "    \n",
    "    else:\n",
    "        \n",
    "        list_matrix = np.reshape(list, (3,3))\n",
    "        \n",
    "        mean_axis_one = np.mean(list_matrix, axis=0)\n",
    "        mean_axis_two = np.mean(list_matrix, axis=1)\n",
    "        mean_flattened = np.mean(list_matrix)\n",
    "        mean_values = np.array([mean_axis_one.tolist(), mean_axis_two.tolist(), mean_flattened.tolist()])\n",
    "\n",
    "\n",
    "\n",
    "        variance_axis_one = np.var(list_matrix, axis=0)\n",
    "        variance_axis_two = np.var(list_matrix, axis=1)\n",
    "        variance_axis_flattened = np.var(list_matrix)\n",
    "        variance_values = np.array([variance_axis_one.tolist(), variance_axis_two.tolist(), variance_axis_flattened.tolist()])\n",
    "\n",
    "        \n",
    "        standdev_axis_one = np.std(list_matrix, axis=0)\n",
    "        standdev_axis_two = np.std(list_matrix, axis=1)\n",
    "        standdev_axis_flattened = np.std(list_matrix)\n",
    "        standdev_values = np.array([standdev_axis_one.tolist(), standdev_axis_two.tolist(), standdev_axis_flattened.tolist()])\n",
    "\n",
    "        \n",
    "        max_axis_one = np.max(list_matrix, axis=0)\n",
    "        max_axis_two = np.max(list_matrix, axis=1)\n",
    "        max_axis_flattened = np.max(list_matrix)\n",
    "        max_values = np.array([max_axis_one.tolist(), max_axis_two.tolist(), max_axis_flattened.tolist()])\n",
    "\n",
    "        \n",
    "        min_axis_one = np.min(list_matrix, axis = 0)\n",
    "        min_axis_two = np.min(list_matrix, axis = 1)\n",
    "        min_axis_flattened = np.min(list_matrix)\n",
    "        min_values= np.array([min_axis_one.tolist(), min_axis_two.tolist(), min_axis_flattened.tolist()])\n",
    "        \n",
    "\n",
    "\n",
    "        sum_axis_one = np.sum(list_matrix, axis = 0)\n",
    "        sum_axis_two = np.sum(list_matrix, axis = 1)\n",
    "        sum_axis_oflattened = np.sum(list_matrix)\n",
    "        sums_values = np.array([sum_axis_one.tolist(), sum_axis_two.tolist(), sum_axis_oflattened.tolist()])\n",
    "        \n",
    "        \n",
    "        mean1 = mean_values.tolist()\n",
    "        mean = f\"mean: {mean1}\"\n",
    "        \n",
    "        variance1 = variance_values.tolist()\n",
    "        variance = f\"variance: {variance1}\"\n",
    "        \n",
    "        standard_deviation1 = standdev_values.tolist()\n",
    "        standard_deviation = f\"standard deviation: {standard_deviation1}\"\n",
    "        \n",
    "        maxi1 = max_values.tolist()\n",
    "        maxi = f\"max: {maxi1}\"\n",
    "        \n",
    "        mini1 = min_values.tolist()\n",
    "        mini = f\"min: {mini1}\"\n",
    "        \n",
    "        sumi1 = sums_values.tolist()\n",
    "        sumi = f\"sum: {sumi1}\"\n",
    "        \n",
    "        \n",
    "        calculations = mean + \"\\n\" + variance + \"\\n\" + standard_deviation + \"\\n\" + maxi +\"\\n\" + mini +\"\\n\" +sumi\n",
    "        \n",
    "        calculation = dict({\"mean\":  mean_values.tolist(),\n",
    "                       \"variance\": variance_values.tolist(),\n",
    "                       \"standard deviation\": standdev_values.tolist(),\n",
    "                       \"max\": max_values.tolist(),\n",
    "                       \"min\" : min_values.tolist(),\n",
    "                       \"sum\" : sums_values.tolist()\n",
    "                                                   \n",
    "                      })\n",
    "     \n",
    "        return calculation\n",
    "\n",
    "\n",
    "    "
   ]
  },
  {
   "cell_type": "markdown",
   "metadata": {},
   "source": [
    "## Testing the calculate function"
   ]
  },
  {
   "cell_type": "code",
   "execution_count": 6,
   "metadata": {
    "scrolled": true
   },
   "outputs": [
    {
     "name": "stdout",
     "output_type": "stream",
     "text": [
      "{'mean': [[3.0, 4.0, 5.0], [1.0, 4.0, 7.0], 4.0], 'variance': [[6.0, 6.0, 6.0], [0.6666666666666666, 0.6666666666666666, 0.6666666666666666], 6.666666666666667], 'standard deviation': [[2.449489742783178, 2.449489742783178, 2.449489742783178], [0.816496580927726, 0.816496580927726, 0.816496580927726], 2.581988897471611], 'max': [[6, 7, 8], [2, 5, 8], 8], 'min': [[0, 1, 2], [0, 3, 6], 0], 'sum': [[9, 12, 15], [3, 12, 21], 36]}\n"
     ]
    }
   ],
   "source": [
    "# The following tests the calculate function created above\n",
    "\n",
    "\n",
    "\n",
    "\n",
    "\n",
    "print(mean_var_std.calculate([0,1,2,3,4,5,6,7,8]))\n",
    "\n",
    "# Run unit tests automatically\n",
    "#main(module='test_module', exit=False)"
   ]
  },
  {
   "cell_type": "markdown",
   "metadata": {},
   "source": [
    "## Link to find the solution"
   ]
  },
  {
   "cell_type": "code",
   "execution_count": null,
   "metadata": {},
   "outputs": [],
   "source": [
    "# youu can find the submitted solution in thie link below\n",
    "\n",
    "https://repl.it/repls/FailingRoastedSoftwareagent\n",
    "    \n",
    "    \n",
    "correct submission      https://repl.it/repls/FailingRoastedSoftwareagent#mean_var_std.py"
   ]
  }
 ],
 "metadata": {
  "kernelspec": {
   "display_name": "Python 3",
   "language": "python",
   "name": "python3"
  },
  "language_info": {
   "codemirror_mode": {
    "name": "ipython",
    "version": 3
   },
   "file_extension": ".py",
   "mimetype": "text/x-python",
   "name": "python",
   "nbconvert_exporter": "python",
   "pygments_lexer": "ipython3",
   "version": "3.7.6"
  }
 },
 "nbformat": 4,
 "nbformat_minor": 4
}
